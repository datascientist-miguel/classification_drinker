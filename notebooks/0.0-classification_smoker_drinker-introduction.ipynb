{
 "cells": [
  {
   "cell_type": "markdown",
   "metadata": {},
   "source": [
    "# Smoking and Drinking Dataset with body signal"
   ]
  },
  {
   "cell_type": "markdown",
   "metadata": {},
   "source": [
    "Predict smokers and drinkers using body signal data."
   ]
  },
  {
   "cell_type": "markdown",
   "metadata": {},
   "source": [
    "# About Dataset"
   ]
  },
  {
   "cell_type": "markdown",
   "metadata": {},
   "source": [
    "This dataset is collected from National Health Insurance Service in Korea. All personal information and sensitive data were excluded.\n",
    "The purpose of this dataset is to:\n",
    "\n",
    "Analysis of body signal\n",
    "Classification of smoker or drinker"
   ]
  },
  {
   "cell_type": "markdown",
   "metadata": {},
   "source": [
    "# Columns"
   ]
  },
  {
   "cell_type": "code",
   "execution_count": null,
   "metadata": {},
   "outputs": [],
   "source": [
    "\"\"\"\n",
    "sex                     male, female\n",
    "age                     round up to 5 years\n",
    "height                  round up to 5 cm[cm]\n",
    "weight                  [kg]\n",
    "waistline               [cm]    \n",
    "sight_left              eyesight(left)\n",
    "sight_right             eyesight(right)\n",
    "hear_left               hearing left, 1(normal), 2(abnormal)\n",
    "hear_right              hearing right, 1(normal), 2(abnormal)\n",
    "SBP                     systolic blood pressure\n",
    "DBP                     diastolic blood pressure\n",
    "BLDS                    blood sugar [mg/dL] \n",
    "tot_chole               total cholesterol [mg/dL]\n",
    "HDL_chole               HDL cholesterol [mg/dL]\n",
    "LDL_chole               LDL cholesterol [mg/dL]\n",
    "triglyceride            triglyceride [mg/dL]\n",
    "hemoglobin              [g/dL]\n",
    "urine_protein           urine protein 1(-), 2(+/-), 3(+1), 4(+2), 5(+3), 6(+4)\n",
    "serum_creatinine        [mg/dL]\n",
    "SGOT_AST                SGOT(Glutamate-oxaloacetate transaminase) AST(Aspartate transaminase) [IU/L]\n",
    "SGOT_ALT                Alanine transaminase[IU/L]\n",
    "gamma_GTP               y-glutamyl transpeptidase[IU/L]\n",
    "SMK_stat_type_cd        Smoking state, 1(never), 2(used to smoke but quit), 3(still smoke)\n",
    "DRK_YN                  Drinker or Not\n",
    "\"\"\""
   ]
  }
 ],
 "metadata": {
  "kernelspec": {
   "display_name": "classification_smoker_drinker",
   "language": "python",
   "name": "python3"
  },
  "language_info": {
   "name": "python",
   "version": "3.10.12"
  },
  "orig_nbformat": 4
 },
 "nbformat": 4,
 "nbformat_minor": 2
}
